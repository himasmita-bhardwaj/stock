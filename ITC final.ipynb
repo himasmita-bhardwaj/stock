{
 "cells": [
  {
   "cell_type": "code",
   "execution_count": 1,
   "metadata": {},
   "outputs": [],
   "source": [
    "\n",
    "import pandas_datareader as Web\n",
    "import datetime as dt\n"
   ]
  },
  {
   "cell_type": "code",
   "execution_count": 2,
   "metadata": {},
   "outputs": [],
   "source": [
    "import pandas as pd\n",
    "import numpy as np \n",
    "from sklearn import metrics \n",
    "\n",
    "import matplotlib.pyplot as plt\n",
    "\n",
    "from keras.models import Sequential\n",
    "from keras.layers import LSTM,Dropout,Dense\n",
    "from sklearn.preprocessing import MinMaxScaler\n",
    "import tensorflow as tf\n"
   ]
  },
  {
   "cell_type": "code",
   "execution_count": 3,
   "metadata": {},
   "outputs": [],
   "source": [
    "#load dataset\n",
    "start=dt.datetime(2019,1,1)\n",
    "end=dt.datetime(2020,12,31)\n",
    "ITC=Web.DataReader(\"ITC.NS\",'yahoo',start,end)"
   ]
  },
  {
   "cell_type": "code",
   "execution_count": 4,
   "metadata": {},
   "outputs": [
    {
     "data": {
      "text/html": [
       "<div>\n",
       "<style scoped>\n",
       "    .dataframe tbody tr th:only-of-type {\n",
       "        vertical-align: middle;\n",
       "    }\n",
       "\n",
       "    .dataframe tbody tr th {\n",
       "        vertical-align: top;\n",
       "    }\n",
       "\n",
       "    .dataframe thead th {\n",
       "        text-align: right;\n",
       "    }\n",
       "</style>\n",
       "<table border=\"1\" class=\"dataframe\">\n",
       "  <thead>\n",
       "    <tr style=\"text-align: right;\">\n",
       "      <th></th>\n",
       "      <th>High</th>\n",
       "      <th>Low</th>\n",
       "      <th>Open</th>\n",
       "      <th>Close</th>\n",
       "      <th>Volume</th>\n",
       "      <th>Adj Close</th>\n",
       "    </tr>\n",
       "    <tr>\n",
       "      <th>Date</th>\n",
       "      <th></th>\n",
       "      <th></th>\n",
       "      <th></th>\n",
       "      <th></th>\n",
       "      <th></th>\n",
       "      <th></th>\n",
       "    </tr>\n",
       "  </thead>\n",
       "  <tbody>\n",
       "    <tr>\n",
       "      <th>2019-01-01</th>\n",
       "      <td>283.549988</td>\n",
       "      <td>279.799988</td>\n",
       "      <td>282.200012</td>\n",
       "      <td>282.700012</td>\n",
       "      <td>2490548.0</td>\n",
       "      <td>250.739075</td>\n",
       "    </tr>\n",
       "    <tr>\n",
       "      <th>2019-01-02</th>\n",
       "      <td>283.250000</td>\n",
       "      <td>277.549988</td>\n",
       "      <td>282.250000</td>\n",
       "      <td>280.600006</td>\n",
       "      <td>9934187.0</td>\n",
       "      <td>248.876465</td>\n",
       "    </tr>\n",
       "    <tr>\n",
       "      <th>2019-01-03</th>\n",
       "      <td>282.450012</td>\n",
       "      <td>277.750000</td>\n",
       "      <td>280.600006</td>\n",
       "      <td>278.850006</td>\n",
       "      <td>6114946.0</td>\n",
       "      <td>247.324326</td>\n",
       "    </tr>\n",
       "    <tr>\n",
       "      <th>2019-01-04</th>\n",
       "      <td>282.950012</td>\n",
       "      <td>279.149994</td>\n",
       "      <td>279.149994</td>\n",
       "      <td>280.950012</td>\n",
       "      <td>7805148.0</td>\n",
       "      <td>249.186951</td>\n",
       "    </tr>\n",
       "    <tr>\n",
       "      <th>2019-01-07</th>\n",
       "      <td>285.250000</td>\n",
       "      <td>281.000000</td>\n",
       "      <td>284.299988</td>\n",
       "      <td>281.649994</td>\n",
       "      <td>9757529.0</td>\n",
       "      <td>249.807800</td>\n",
       "    </tr>\n",
       "    <tr>\n",
       "      <th>2019-01-08</th>\n",
       "      <td>285.500000</td>\n",
       "      <td>281.350006</td>\n",
       "      <td>282.000000</td>\n",
       "      <td>284.250000</td>\n",
       "      <td>7480522.0</td>\n",
       "      <td>252.113815</td>\n",
       "    </tr>\n",
       "    <tr>\n",
       "      <th>2019-01-09</th>\n",
       "      <td>291.700012</td>\n",
       "      <td>284.600006</td>\n",
       "      <td>285.600006</td>\n",
       "      <td>290.399994</td>\n",
       "      <td>12182118.0</td>\n",
       "      <td>257.568512</td>\n",
       "    </tr>\n",
       "    <tr>\n",
       "      <th>2019-01-10</th>\n",
       "      <td>293.700012</td>\n",
       "      <td>288.899994</td>\n",
       "      <td>290.750000</td>\n",
       "      <td>289.600006</td>\n",
       "      <td>10288580.0</td>\n",
       "      <td>256.858978</td>\n",
       "    </tr>\n",
       "    <tr>\n",
       "      <th>2019-01-11</th>\n",
       "      <td>296.000000</td>\n",
       "      <td>291.500000</td>\n",
       "      <td>291.899994</td>\n",
       "      <td>295.350006</td>\n",
       "      <td>16773035.0</td>\n",
       "      <td>261.958923</td>\n",
       "    </tr>\n",
       "    <tr>\n",
       "      <th>2019-01-14</th>\n",
       "      <td>294.799988</td>\n",
       "      <td>290.000000</td>\n",
       "      <td>294.500000</td>\n",
       "      <td>294.299988</td>\n",
       "      <td>6400147.0</td>\n",
       "      <td>261.027618</td>\n",
       "    </tr>\n",
       "  </tbody>\n",
       "</table>\n",
       "</div>"
      ],
      "text/plain": [
       "                  High         Low        Open       Close      Volume  \\\n",
       "Date                                                                     \n",
       "2019-01-01  283.549988  279.799988  282.200012  282.700012   2490548.0   \n",
       "2019-01-02  283.250000  277.549988  282.250000  280.600006   9934187.0   \n",
       "2019-01-03  282.450012  277.750000  280.600006  278.850006   6114946.0   \n",
       "2019-01-04  282.950012  279.149994  279.149994  280.950012   7805148.0   \n",
       "2019-01-07  285.250000  281.000000  284.299988  281.649994   9757529.0   \n",
       "2019-01-08  285.500000  281.350006  282.000000  284.250000   7480522.0   \n",
       "2019-01-09  291.700012  284.600006  285.600006  290.399994  12182118.0   \n",
       "2019-01-10  293.700012  288.899994  290.750000  289.600006  10288580.0   \n",
       "2019-01-11  296.000000  291.500000  291.899994  295.350006  16773035.0   \n",
       "2019-01-14  294.799988  290.000000  294.500000  294.299988   6400147.0   \n",
       "\n",
       "             Adj Close  \n",
       "Date                    \n",
       "2019-01-01  250.739075  \n",
       "2019-01-02  248.876465  \n",
       "2019-01-03  247.324326  \n",
       "2019-01-04  249.186951  \n",
       "2019-01-07  249.807800  \n",
       "2019-01-08  252.113815  \n",
       "2019-01-09  257.568512  \n",
       "2019-01-10  256.858978  \n",
       "2019-01-11  261.958923  \n",
       "2019-01-14  261.027618  "
      ]
     },
     "execution_count": 4,
     "metadata": {},
     "output_type": "execute_result"
    }
   ],
   "source": [
    "ITC.head(10)\n"
   ]
  },
  {
   "cell_type": "code",
   "execution_count": 5,
   "metadata": {},
   "outputs": [
    {
     "data": {
      "text/html": [
       "<div>\n",
       "<style scoped>\n",
       "    .dataframe tbody tr th:only-of-type {\n",
       "        vertical-align: middle;\n",
       "    }\n",
       "\n",
       "    .dataframe tbody tr th {\n",
       "        vertical-align: top;\n",
       "    }\n",
       "\n",
       "    .dataframe thead th {\n",
       "        text-align: right;\n",
       "    }\n",
       "</style>\n",
       "<table border=\"1\" class=\"dataframe\">\n",
       "  <thead>\n",
       "    <tr style=\"text-align: right;\">\n",
       "      <th></th>\n",
       "      <th>High</th>\n",
       "      <th>Low</th>\n",
       "      <th>Open</th>\n",
       "      <th>Close</th>\n",
       "      <th>Volume</th>\n",
       "      <th>Adj Close</th>\n",
       "    </tr>\n",
       "    <tr>\n",
       "      <th>Date</th>\n",
       "      <th></th>\n",
       "      <th></th>\n",
       "      <th></th>\n",
       "      <th></th>\n",
       "      <th></th>\n",
       "      <th></th>\n",
       "    </tr>\n",
       "  </thead>\n",
       "  <tbody>\n",
       "    <tr>\n",
       "      <th>2020-12-17</th>\n",
       "      <td>215.100006</td>\n",
       "      <td>211.250000</td>\n",
       "      <td>214.199997</td>\n",
       "      <td>213.050003</td>\n",
       "      <td>22386185.0</td>\n",
       "      <td>202.485748</td>\n",
       "    </tr>\n",
       "    <tr>\n",
       "      <th>2020-12-18</th>\n",
       "      <td>215.949997</td>\n",
       "      <td>209.750000</td>\n",
       "      <td>213.100006</td>\n",
       "      <td>214.500000</td>\n",
       "      <td>23775053.0</td>\n",
       "      <td>203.863846</td>\n",
       "    </tr>\n",
       "    <tr>\n",
       "      <th>2020-12-21</th>\n",
       "      <td>214.699997</td>\n",
       "      <td>199.149994</td>\n",
       "      <td>214.500000</td>\n",
       "      <td>202.949997</td>\n",
       "      <td>41834797.0</td>\n",
       "      <td>192.886551</td>\n",
       "    </tr>\n",
       "    <tr>\n",
       "      <th>2020-12-22</th>\n",
       "      <td>206.250000</td>\n",
       "      <td>196.899994</td>\n",
       "      <td>203.100006</td>\n",
       "      <td>203.399994</td>\n",
       "      <td>40986353.0</td>\n",
       "      <td>193.314240</td>\n",
       "    </tr>\n",
       "    <tr>\n",
       "      <th>2020-12-23</th>\n",
       "      <td>208.250000</td>\n",
       "      <td>202.000000</td>\n",
       "      <td>203.000000</td>\n",
       "      <td>207.750000</td>\n",
       "      <td>23695667.0</td>\n",
       "      <td>197.448547</td>\n",
       "    </tr>\n",
       "    <tr>\n",
       "      <th>2020-12-24</th>\n",
       "      <td>210.649994</td>\n",
       "      <td>205.600006</td>\n",
       "      <td>210.000000</td>\n",
       "      <td>208.600006</td>\n",
       "      <td>22768284.0</td>\n",
       "      <td>198.256409</td>\n",
       "    </tr>\n",
       "    <tr>\n",
       "      <th>2020-12-28</th>\n",
       "      <td>210.199997</td>\n",
       "      <td>207.850006</td>\n",
       "      <td>209.000000</td>\n",
       "      <td>209.500000</td>\n",
       "      <td>15741000.0</td>\n",
       "      <td>199.111771</td>\n",
       "    </tr>\n",
       "    <tr>\n",
       "      <th>2020-12-29</th>\n",
       "      <td>213.500000</td>\n",
       "      <td>210.100006</td>\n",
       "      <td>210.500000</td>\n",
       "      <td>211.550003</td>\n",
       "      <td>26546469.0</td>\n",
       "      <td>201.060120</td>\n",
       "    </tr>\n",
       "    <tr>\n",
       "      <th>2020-12-30</th>\n",
       "      <td>213.500000</td>\n",
       "      <td>209.550003</td>\n",
       "      <td>212.699997</td>\n",
       "      <td>211.149994</td>\n",
       "      <td>18925262.0</td>\n",
       "      <td>200.679947</td>\n",
       "    </tr>\n",
       "    <tr>\n",
       "      <th>2020-12-31</th>\n",
       "      <td>211.300003</td>\n",
       "      <td>208.550003</td>\n",
       "      <td>210.550003</td>\n",
       "      <td>209.000000</td>\n",
       "      <td>18245270.0</td>\n",
       "      <td>198.636566</td>\n",
       "    </tr>\n",
       "  </tbody>\n",
       "</table>\n",
       "</div>"
      ],
      "text/plain": [
       "                  High         Low        Open       Close      Volume  \\\n",
       "Date                                                                     \n",
       "2020-12-17  215.100006  211.250000  214.199997  213.050003  22386185.0   \n",
       "2020-12-18  215.949997  209.750000  213.100006  214.500000  23775053.0   \n",
       "2020-12-21  214.699997  199.149994  214.500000  202.949997  41834797.0   \n",
       "2020-12-22  206.250000  196.899994  203.100006  203.399994  40986353.0   \n",
       "2020-12-23  208.250000  202.000000  203.000000  207.750000  23695667.0   \n",
       "2020-12-24  210.649994  205.600006  210.000000  208.600006  22768284.0   \n",
       "2020-12-28  210.199997  207.850006  209.000000  209.500000  15741000.0   \n",
       "2020-12-29  213.500000  210.100006  210.500000  211.550003  26546469.0   \n",
       "2020-12-30  213.500000  209.550003  212.699997  211.149994  18925262.0   \n",
       "2020-12-31  211.300003  208.550003  210.550003  209.000000  18245270.0   \n",
       "\n",
       "             Adj Close  \n",
       "Date                    \n",
       "2020-12-17  202.485748  \n",
       "2020-12-18  203.863846  \n",
       "2020-12-21  192.886551  \n",
       "2020-12-22  193.314240  \n",
       "2020-12-23  197.448547  \n",
       "2020-12-24  198.256409  \n",
       "2020-12-28  199.111771  \n",
       "2020-12-29  201.060120  \n",
       "2020-12-30  200.679947  \n",
       "2020-12-31  198.636566  "
      ]
     },
     "execution_count": 5,
     "metadata": {},
     "output_type": "execute_result"
    }
   ],
   "source": [
    "ITC.tail(10)"
   ]
  },
  {
   "cell_type": "code",
   "execution_count": 6,
   "metadata": {},
   "outputs": [
    {
     "data": {
      "text/plain": [
       "(492, 6)"
      ]
     },
     "execution_count": 6,
     "metadata": {},
     "output_type": "execute_result"
    }
   ],
   "source": [
    "ITC.shape"
   ]
  },
  {
   "cell_type": "code",
   "execution_count": 7,
   "metadata": {},
   "outputs": [
    {
     "data": {
      "text/html": [
       "<div>\n",
       "<style scoped>\n",
       "    .dataframe tbody tr th:only-of-type {\n",
       "        vertical-align: middle;\n",
       "    }\n",
       "\n",
       "    .dataframe tbody tr th {\n",
       "        vertical-align: top;\n",
       "    }\n",
       "\n",
       "    .dataframe thead th {\n",
       "        text-align: right;\n",
       "    }\n",
       "</style>\n",
       "<table border=\"1\" class=\"dataframe\">\n",
       "  <thead>\n",
       "    <tr style=\"text-align: right;\">\n",
       "      <th></th>\n",
       "      <th>High</th>\n",
       "      <th>Low</th>\n",
       "      <th>Open</th>\n",
       "      <th>Close</th>\n",
       "      <th>Volume</th>\n",
       "      <th>Adj Close</th>\n",
       "    </tr>\n",
       "  </thead>\n",
       "  <tbody>\n",
       "    <tr>\n",
       "      <th>count</th>\n",
       "      <td>492.000000</td>\n",
       "      <td>492.000000</td>\n",
       "      <td>492.000000</td>\n",
       "      <td>492.000000</td>\n",
       "      <td>4.920000e+02</td>\n",
       "      <td>492.000000</td>\n",
       "    </tr>\n",
       "    <tr>\n",
       "      <th>mean</th>\n",
       "      <td>233.248780</td>\n",
       "      <td>227.908028</td>\n",
       "      <td>230.964329</td>\n",
       "      <td>230.315549</td>\n",
       "      <td>2.067235e+07</td>\n",
       "      <td>209.486753</td>\n",
       "    </tr>\n",
       "    <tr>\n",
       "      <th>std</th>\n",
       "      <td>44.399622</td>\n",
       "      <td>44.820213</td>\n",
       "      <td>44.584724</td>\n",
       "      <td>44.539963</td>\n",
       "      <td>1.496775e+07</td>\n",
       "      <td>37.123760</td>\n",
       "    </tr>\n",
       "    <tr>\n",
       "      <th>min</th>\n",
       "      <td>152.000000</td>\n",
       "      <td>134.600006</td>\n",
       "      <td>148.000000</td>\n",
       "      <td>147.250000</td>\n",
       "      <td>2.490548e+06</td>\n",
       "      <td>133.104462</td>\n",
       "    </tr>\n",
       "    <tr>\n",
       "      <th>25%</th>\n",
       "      <td>195.137497</td>\n",
       "      <td>190.000000</td>\n",
       "      <td>192.450001</td>\n",
       "      <td>192.512505</td>\n",
       "      <td>9.967578e+06</td>\n",
       "      <td>178.572403</td>\n",
       "    </tr>\n",
       "    <tr>\n",
       "      <th>50%</th>\n",
       "      <td>239.775002</td>\n",
       "      <td>236.625000</td>\n",
       "      <td>238.150002</td>\n",
       "      <td>237.949997</td>\n",
       "      <td>1.647667e+07</td>\n",
       "      <td>215.091393</td>\n",
       "    </tr>\n",
       "    <tr>\n",
       "      <th>75%</th>\n",
       "      <td>276.674995</td>\n",
       "      <td>272.574997</td>\n",
       "      <td>274.612503</td>\n",
       "      <td>274.262497</td>\n",
       "      <td>2.559572e+07</td>\n",
       "      <td>244.738583</td>\n",
       "    </tr>\n",
       "    <tr>\n",
       "      <th>max</th>\n",
       "      <td>310.000000</td>\n",
       "      <td>306.149994</td>\n",
       "      <td>308.250000</td>\n",
       "      <td>307.200012</td>\n",
       "      <td>9.699491e+07</td>\n",
       "      <td>272.469177</td>\n",
       "    </tr>\n",
       "  </tbody>\n",
       "</table>\n",
       "</div>"
      ],
      "text/plain": [
       "             High         Low        Open       Close        Volume  \\\n",
       "count  492.000000  492.000000  492.000000  492.000000  4.920000e+02   \n",
       "mean   233.248780  227.908028  230.964329  230.315549  2.067235e+07   \n",
       "std     44.399622   44.820213   44.584724   44.539963  1.496775e+07   \n",
       "min    152.000000  134.600006  148.000000  147.250000  2.490548e+06   \n",
       "25%    195.137497  190.000000  192.450001  192.512505  9.967578e+06   \n",
       "50%    239.775002  236.625000  238.150002  237.949997  1.647667e+07   \n",
       "75%    276.674995  272.574997  274.612503  274.262497  2.559572e+07   \n",
       "max    310.000000  306.149994  308.250000  307.200012  9.699491e+07   \n",
       "\n",
       "        Adj Close  \n",
       "count  492.000000  \n",
       "mean   209.486753  \n",
       "std     37.123760  \n",
       "min    133.104462  \n",
       "25%    178.572403  \n",
       "50%    215.091393  \n",
       "75%    244.738583  \n",
       "max    272.469177  "
      ]
     },
     "execution_count": 7,
     "metadata": {},
     "output_type": "execute_result"
    }
   ],
   "source": [
    "ITC.describe()"
   ]
  },
  {
   "cell_type": "code",
   "execution_count": 8,
   "metadata": {
    "scrolled": false
   },
   "outputs": [
    {
     "data": {
      "image/png": "[encoded data removed]",
      "text/plain": [
       "<Figure size 1008x504 with 1 Axes>"
      ]
     },
     "metadata": {
      "needs_background": "light"
     },
     "output_type": "display_data"
    }
   ],
   "source": [
    "# analyising closing price from dataset\n",
    "\n",
    "ITC['Adj Close'].plot(label='ITC',figsize=(14,7),title='Adjusted Closing Price')\n",
    "plt.legend();"
   ]
  },
  {
   "cell_type": "code",
   "execution_count": 299,
   "metadata": {},
   "outputs": [],
   "source": [
    "#Prepare data for checking Adj Close Price\n",
    "scaler=MinMaxScaler(feature_range=(0,1))\n",
    "scaled_data=scaler.fit_transform(ITC['Adj Close'].values.reshape(-1,1))"
   ]
  },
  {
   "cell_type": "code",
   "execution_count": 300,
   "metadata": {},
   "outputs": [],
   "source": [
    "prediction_days= 90"
   ]
  },
  {
   "cell_type": "code",
   "execution_count": 301,
   "metadata": {},
   "outputs": [],
   "source": [
    "x_train=[]\n",
    "y_train=[]"
   ]
  },
  {
   "cell_type": "code",
   "execution_count": 302,
   "metadata": {},
   "outputs": [],
   "source": [
    "for x in range(prediction_days,len(scaled_data)):\n",
    "    x_train.append(scaled_data[x-prediction_days:x,0])\n",
    "    y_train.append(scaled_data[x,0])"
   ]
  },
  {
   "cell_type": "code",
   "execution_count": 303,
   "metadata": {},
   "outputs": [],
   "source": [
    "x_train,y_train=np.array(x_train),np.array(y_train)\n",
    "x_train=np.reshape(x_train,(x_train.shape[0],x_train.shape[1],1))"
   ]
  },
  {
   "cell_type": "code",
   "execution_count": 304,
   "metadata": {},
   "outputs": [],
   "source": [
    "#Build The Model\n",
    "\n",
    "model=Sequential()\n",
    "model.add(LSTM(units=50,return_sequences=True, input_shape=(x_train.shape[1],1)))\n",
    "model.add(Dropout(0.2))\n",
    "model.add(LSTM(units=50,return_sequences=True))\n",
    "model.add(Dropout(0.2))\n",
    "model.add(LSTM(units=50))\n",
    "model.add(Dropout(0.2))\n",
    "model.add(Dense(units=1))#Prediction of the next closing price"
   ]
  },
  {
   "cell_type": "code",
   "execution_count": 305,
   "metadata": {},
   "outputs": [],
   "source": [
    "model.compile(optimizer='adam',loss='mean_squared_error')"
   ]
  },
  {
   "cell_type": "code",
   "execution_count": 306,
   "metadata": {},
   "outputs": [
    {
     "name": "stdout",
     "output_type": "stream",
     "text": [
      "402/402 [==============================] - 37s 73ms/step - loss: 0.0238\n"
     ]
    },
    {
     "data": {
      "text/plain": [
       "<keras.callbacks.History at 0x23e5b2dcf10>"
      ]
     },
     "execution_count": 306,
     "metadata": {},
     "output_type": "execute_result"
    }
   ],
   "source": [
    "model.fit(x_train,y_train,epochs=1,batch_size=1,verbose=1)"
   ]
  },
  {
   "cell_type": "code",
   "execution_count": 307,
   "metadata": {},
   "outputs": [],
   "source": [
    "#test the model accuracy on the existing data\n",
    "\n"
   ]
  },
  {
   "cell_type": "code",
   "execution_count": 308,
   "metadata": {},
   "outputs": [],
   "source": [
    "#load testdata\n",
    "test_start=dt.datetime(2020,12,31)\n",
    "test_end=dt.datetime(2021,1,12)"
   ]
  },
  {
   "cell_type": "code",
   "execution_count": 309,
   "metadata": {},
   "outputs": [],
   "source": [
    "test_data=Web.DataReader(\"ITC.NS\",'yahoo',test_start,test_end)"
   ]
  },
  {
   "cell_type": "code",
   "execution_count": 310,
   "metadata": {},
   "outputs": [],
   "source": [
    "actual_price=test_data['Adj Close'].values"
   ]
  },
  {
   "cell_type": "code",
   "execution_count": 311,
   "metadata": {},
   "outputs": [],
   "source": [
    "total_dataset=pd.concat((ITC['Adj Close'],test_data['Adj Close']),axis= 0)"
   ]
  },
  {
   "cell_type": "code",
   "execution_count": 312,
   "metadata": {},
   "outputs": [],
   "source": [
    "model_inputs=total_dataset[len(total_dataset)-len(test_data)-prediction_days:].values\n",
    "model_inputs=model_inputs.reshape(-1,1)\n",
    "model_inputs=scaler.transform(model_inputs)"
   ]
  },
  {
   "cell_type": "code",
   "execution_count": 313,
   "metadata": {},
   "outputs": [],
   "source": [
    "#MAke prediction\n",
    "x_test=[]\n",
    "\n",
    "for x in range(prediction_days,len(model_inputs)):\n",
    "    x_test.append(model_inputs[x-prediction_days:x,0])"
   ]
  },
  {
   "cell_type": "code",
   "execution_count": 314,
   "metadata": {},
   "outputs": [],
   "source": [
    "x_test=np.array(x_test)\n",
    "x_test=np.reshape(x_test,(x_test.shape[0],x_test.shape[1],1))"
   ]
  },
  {
   "cell_type": "code",
   "execution_count": 315,
   "metadata": {},
   "outputs": [],
   "source": [
    "predicted_prices=model.predict(x_test)\n",
    "predicted_prices=scaler.inverse_transform(predicted_prices)"
   ]
  },
  {
   "cell_type": "code",
   "execution_count": 316,
   "metadata": {},
   "outputs": [
    {
     "data": {
      "image/png": "[encoded data removed]",
      "text/plain": [
       "<Figure size 432x288 with 1 Axes>"
      ]
     },
     "metadata": {
      "needs_background": "light"
     },
     "output_type": "display_data"
    }
   ],
   "source": [
    "#plot the test prediction\n",
    "plt.plot(actual_price,color='green',label=\"actual close price\")\n",
    "plt.plot(predicted_prices,color='orange',label=\"predicted close price\")\n",
    "plt.title(\"ITC Stock Price\")\n",
    "plt.xlabel(\"Date\")\n",
    "plt.ylabel(\"price\")\n",
    "plt.legend()\n",
    "plt.show()"
   ]
  },
  {
   "cell_type": "code",
   "execution_count": 317,
   "metadata": {},
   "outputs": [],
   "source": [
    "real_data=[model_inputs[len(model_inputs)+1-prediction_days:len(model_inputs+1),0]]\n",
    "real_data=np.array(real_data)\n",
    "real_data=np.reshape(real_data,(real_data.shape[0],real_data.shape[1],1))"
   ]
  },
  {
   "cell_type": "code",
   "execution_count": 318,
   "metadata": {},
   "outputs": [
    {
     "name": "stdout",
     "output_type": "stream",
     "text": [
      "WARNING:tensorflow:Model was constructed with shape (None, 90, 1) for input KerasTensor(type_spec=TensorSpec(shape=(None, 90, 1), dtype=tf.float32, name='lstm_48_input'), name='lstm_48_input', description=\"created by layer 'lstm_48_input'\"), but it was called on an input with incompatible shape (None, 89, 1).\n"
     ]
    }
   ],
   "source": [
    "prediction=model.predict(real_data)\n",
    "prediction=scaler.inverse_transform(prediction)\n"
   ]
  },
  {
   "cell_type": "code",
   "execution_count": 319,
   "metadata": {},
   "outputs": [
    {
     "name": "stdout",
     "output_type": "stream",
     "text": [
      "Prediction Close Price:[[199.70499]]\n"
     ]
    }
   ],
   "source": [
    "print(f\"Prediction Close Price:{prediction}\")"
   ]
  },
  {
   "cell_type": "markdown",
   "metadata": {},
   "source": [
    "# Here we are predicting the High Price for this dataset on 13/1/2021"
   ]
  },
  {
   "cell_type": "code",
   "execution_count": 320,
   "metadata": {},
   "outputs": [
    {
     "data": {
      "image/png": "[encoded data removed]",
      "text/plain": [
       "<Figure size 1008x504 with 1 Axes>"
      ]
     },
     "metadata": {
      "needs_background": "light"
     },
     "output_type": "display_data"
    }
   ],
   "source": [
    "ITC['High'].plot(label='ITC',figsize=(14,7),title='High Price')\n",
    "plt.legend();"
   ]
  },
  {
   "cell_type": "code",
   "execution_count": 341,
   "metadata": {},
   "outputs": [],
   "source": [
    "#Prepare data for High Price\n",
    "scaler=MinMaxScaler(feature_range=(0,1))\n",
    "scaled_data=scaler.fit_transform(ITC['High'].values.reshape(-1,1))"
   ]
  },
  {
   "cell_type": "code",
   "execution_count": 342,
   "metadata": {},
   "outputs": [],
   "source": [
    "prediction_days= 90"
   ]
  },
  {
   "cell_type": "code",
   "execution_count": 343,
   "metadata": {},
   "outputs": [],
   "source": [
    "x_train=[]\n",
    "y_train=[]"
   ]
  },
  {
   "cell_type": "code",
   "execution_count": 344,
   "metadata": {},
   "outputs": [],
   "source": [
    "for x in range(prediction_days,len(scaled_data)):\n",
    "    x_train.append(scaled_data[x-prediction_days:x,0])\n",
    "    y_train.append(scaled_data[x,0])"
   ]
  },
  {
   "cell_type": "code",
   "execution_count": 345,
   "metadata": {},
   "outputs": [],
   "source": [
    "x_train,y_train=np.array(x_train),np.array(y_train)\n",
    "x_train=np.reshape(x_train,(x_train.shape[0],x_train.shape[1],1))"
   ]
  },
  {
   "cell_type": "code",
   "execution_count": 346,
   "metadata": {},
   "outputs": [],
   "source": [
    "#Build The Model\n",
    "\n",
    "model=Sequential()\n",
    "model.add(LSTM(units=70,return_sequences=True, input_shape=(x_train.shape[1],1)))\n",
    "model.add(Dropout(0.2))\n",
    "model.add(LSTM(units=70,return_sequences=True))\n",
    "model.add(Dropout(0.2))\n",
    "model.add(LSTM(units=70))\n",
    "model.add(Dropout(0.2))\n",
    "model.add(Dense(units=1))#Prediction of the next high price"
   ]
  },
  {
   "cell_type": "code",
   "execution_count": 347,
   "metadata": {},
   "outputs": [],
   "source": [
    "model.compile(optimizer='adam',loss='mean_squared_error')"
   ]
  },
  {
   "cell_type": "code",
   "execution_count": 348,
   "metadata": {},
   "outputs": [
    {
     "name": "stdout",
     "output_type": "stream",
     "text": [
      "Epoch 1/14\n",
      "13/13 [==============================] - 17s 209ms/step - loss: 0.0952\n",
      "Epoch 2/14\n",
      "13/13 [==============================] - 2s 189ms/step - loss: 0.0131\n",
      "Epoch 3/14\n",
      "13/13 [==============================] - 3s 194ms/step - loss: 0.0109\n",
      "Epoch 4/14\n",
      "13/13 [==============================] - 3s 191ms/step - loss: 0.0082\n",
      "Epoch 5/14\n",
      "13/13 [==============================] - 3s 191ms/step - loss: 0.0086\n",
      "Epoch 6/14\n",
      "13/13 [==============================] - 3s 193ms/step - loss: 0.0077\n",
      "Epoch 7/14\n",
      "13/13 [==============================] - 2s 191ms/step - loss: 0.0074\n",
      "Epoch 8/14\n",
      "13/13 [==============================] - 3s 190ms/step - loss: 0.0064\n",
      "Epoch 9/14\n",
      "13/13 [==============================] - 2s 190ms/step - loss: 0.0067\n",
      "Epoch 10/14\n",
      "13/13 [==============================] - 3s 191ms/step - loss: 0.0055\n",
      "Epoch 11/14\n",
      "13/13 [==============================] - 3s 197ms/step - loss: 0.0050\n",
      "Epoch 12/14\n",
      "13/13 [==============================] - 3s 197ms/step - loss: 0.0057\n",
      "Epoch 13/14\n",
      "13/13 [==============================] - 3s 192ms/step - loss: 0.0062 2s - \n",
      "Epoch 14/14\n",
      "13/13 [==============================] - 3s 190ms/step - loss: 0.0056 0s - loss: 0\n"
     ]
    },
    {
     "data": {
      "text/plain": [
       "<keras.callbacks.History at 0x23e6f98b370>"
      ]
     },
     "execution_count": 348,
     "metadata": {},
     "output_type": "execute_result"
    }
   ],
   "source": [
    "model.fit(x_train,y_train,epochs=14,batch_size=32,verbose=1)"
   ]
  },
  {
   "cell_type": "code",
   "execution_count": 349,
   "metadata": {},
   "outputs": [],
   "source": [
    "#load testdata\n",
    "test_start=dt.datetime(2020,12,31)\n",
    "test_end=dt.datetime(2021,1,12)"
   ]
  },
  {
   "cell_type": "code",
   "execution_count": 350,
   "metadata": {},
   "outputs": [],
   "source": [
    "test_data=Web.DataReader(\"ITC.NS\",'yahoo',test_start,test_end)"
   ]
  },
  {
   "cell_type": "code",
   "execution_count": 351,
   "metadata": {},
   "outputs": [],
   "source": [
    "actual_price=test_data['High'].values"
   ]
  },
  {
   "cell_type": "code",
   "execution_count": 352,
   "metadata": {},
   "outputs": [],
   "source": [
    "total_dataset=pd.concat((ITC['High'],test_data['High']),axis= 0)"
   ]
  },
  {
   "cell_type": "code",
   "execution_count": 353,
   "metadata": {},
   "outputs": [],
   "source": [
    "model_inputs=total_dataset[len(total_dataset)-len(test_data)-prediction_days:].values\n",
    "model_inputs=model_inputs.reshape(-1,1)\n",
    "model_inputs=scaler.transform(model_inputs)"
   ]
  },
  {
   "cell_type": "code",
   "execution_count": 354,
   "metadata": {},
   "outputs": [],
   "source": [
    "#MAke prediction\n",
    "x_test=[]\n",
    "\n",
    "for x in range(prediction_days,len(model_inputs)):\n",
    "    x_test.append(model_inputs[x-prediction_days:x,0])"
   ]
  },
  {
   "cell_type": "code",
   "execution_count": 355,
   "metadata": {},
   "outputs": [],
   "source": [
    "x_test=np.array(x_test)\n",
    "x_test=np.reshape(x_test,(x_test.shape[0],x_test.shape[1],1))"
   ]
  },
  {
   "cell_type": "code",
   "execution_count": 356,
   "metadata": {},
   "outputs": [],
   "source": [
    "predicted_prices=model.predict(x_test)\n",
    "predicted_prices=scaler.inverse_transform(predicted_prices)"
   ]
  },
  {
   "cell_type": "code",
   "execution_count": 357,
   "metadata": {},
   "outputs": [
    {
     "data": {
      "image/png": "[encoded data removed]",
      "text/plain": [
       "<Figure size 432x288 with 1 Axes>"
      ]
     },
     "metadata": {
      "needs_background": "light"
     },
     "output_type": "display_data"
    }
   ],
   "source": [
    "#plot the test prediction\n",
    "plt.plot(actual_price,color='green',label=\"actual high price\")\n",
    "plt.plot(predicted_prices,color='orange',label=\"predicted high price\")\n",
    "plt.title(\"ITC Stock Price\")\n",
    "plt.xlabel(\"Date\")\n",
    "plt.ylabel(\"price\")\n",
    "plt.legend()\n",
    "plt.show()"
   ]
  },
  {
   "cell_type": "code",
   "execution_count": 358,
   "metadata": {},
   "outputs": [],
   "source": [
    "real_data=[model_inputs[len(model_inputs)+1-prediction_days:len(model_inputs+1),0]]\n",
    "real_data=np.array(real_data)\n",
    "real_data=np.reshape(real_data,(real_data.shape[0],real_data.shape[1],1))"
   ]
  },
  {
   "cell_type": "code",
   "execution_count": 359,
   "metadata": {},
   "outputs": [
    {
     "name": "stdout",
     "output_type": "stream",
     "text": [
      "WARNING:tensorflow:Model was constructed with shape (None, 90, 1) for input KerasTensor(type_spec=TensorSpec(shape=(None, 90, 1), dtype=tf.float32, name='lstm_54_input'), name='lstm_54_input', description=\"created by layer 'lstm_54_input'\"), but it was called on an input with incompatible shape (None, 89, 1).\n"
     ]
    }
   ],
   "source": [
    "prediction=model.predict(real_data)\n",
    "prediction=scaler.inverse_transform(prediction)\n"
   ]
  },
  {
   "cell_type": "code",
   "execution_count": 360,
   "metadata": {},
   "outputs": [
    {
     "name": "stdout",
     "output_type": "stream",
     "text": [
      "High Price Prediction:[[208.70578]]\n"
     ]
    }
   ],
   "source": [
    "print(f\"High Price Prediction:{prediction}\")"
   ]
  },
  {
   "cell_type": "markdown",
   "metadata": {},
   "source": [
    "# Now here we are trying to predict the Open Price of the stock for 13/01/2021"
   ]
  },
  {
   "cell_type": "code",
   "execution_count": 52,
   "metadata": {},
   "outputs": [
    {
     "data": {
      "image/png": "[encoded data removed]",
      "text/plain": [
       "<Figure size 1008x504 with 1 Axes>"
      ]
     },
     "metadata": {
      "needs_background": "light"
     },
     "output_type": "display_data"
    }
   ],
   "source": [
    "ITC['Open'].plot(label='ITC',figsize=(14,7),title='Open Price')\n",
    "plt.legend();"
   ]
  },
  {
   "cell_type": "code",
   "execution_count": 361,
   "metadata": {},
   "outputs": [],
   "source": [
    "scaler=MinMaxScaler(feature_range=(0,1))\n",
    "scaled_data=scaler.fit_transform(ITC['Open'].values.reshape(-1,1))"
   ]
  },
  {
   "cell_type": "code",
   "execution_count": 362,
   "metadata": {},
   "outputs": [],
   "source": [
    "prediction_days= 90"
   ]
  },
  {
   "cell_type": "code",
   "execution_count": 363,
   "metadata": {},
   "outputs": [],
   "source": [
    "x_train=[]\n",
    "y_train=[]\n",
    "for x in range(prediction_days,len(scaled_data)):\n",
    "    x_train.append(scaled_data[x-prediction_days:x,0])\n",
    "    y_train.append(scaled_data[x,0])"
   ]
  },
  {
   "cell_type": "code",
   "execution_count": 364,
   "metadata": {},
   "outputs": [],
   "source": [
    "x_train,y_train=np.array(x_train),np.array(y_train)\n",
    "x_train=np.reshape(x_train,(x_train.shape[0],x_train.shape[1],1))"
   ]
  },
  {
   "cell_type": "code",
   "execution_count": 365,
   "metadata": {},
   "outputs": [],
   "source": [
    "#Build The Model\n",
    "\n",
    "model=Sequential()\n",
    "model.add(LSTM(units=50,return_sequences=True, input_shape=(x_train.shape[1],1)))\n",
    "model.add(Dropout(0.2))\n",
    "model.add(LSTM(units=50,return_sequences=True))\n",
    "model.add(Dropout(0.2))\n",
    "model.add(LSTM(units=50))\n",
    "model.add(Dropout(0.2))\n",
    "model.add(Dense(units=1))#Prediction of the next open price"
   ]
  },
  {
   "cell_type": "code",
   "execution_count": 366,
   "metadata": {},
   "outputs": [],
   "source": [
    "model.compile(optimizer='adam',loss='mean_squared_error')"
   ]
  },
  {
   "cell_type": "code",
   "execution_count": 367,
   "metadata": {},
   "outputs": [
    {
     "name": "stdout",
     "output_type": "stream",
     "text": [
      "Epoch 1/25\n",
      "13/13 [==============================] - 12s 148ms/step - loss: 0.1354\n",
      "Epoch 2/25\n",
      "13/13 [==============================] - 2s 139ms/step - loss: 0.0225\n",
      "Epoch 3/25\n",
      "13/13 [==============================] - 2s 144ms/step - loss: 0.0128\n",
      "Epoch 4/25\n",
      "13/13 [==============================] - 2s 140ms/step - loss: 0.0078\n",
      "Epoch 5/25\n",
      "13/13 [==============================] - 2s 144ms/step - loss: 0.0087\n",
      "Epoch 6/25\n",
      "13/13 [==============================] - 2s 143ms/step - loss: 0.0078\n",
      "Epoch 7/25\n",
      "13/13 [==============================] - 2s 140ms/step - loss: 0.0072\n",
      "Epoch 8/25\n",
      "13/13 [==============================] - 2s 143ms/step - loss: 0.0072\n",
      "Epoch 9/25\n",
      "13/13 [==============================] - 2s 139ms/step - loss: 0.0067\n",
      "Epoch 10/25\n",
      "13/13 [==============================] - 2s 139ms/step - loss: 0.0070\n",
      "Epoch 11/25\n",
      "13/13 [==============================] - 2s 149ms/step - loss: 0.0066\n",
      "Epoch 12/25\n",
      "13/13 [==============================] - 2s 145ms/step - loss: 0.0066\n",
      "Epoch 13/25\n",
      "13/13 [==============================] - 2s 145ms/step - loss: 0.0069\n",
      "Epoch 14/25\n",
      "13/13 [==============================] - 2s 140ms/step - loss: 0.0068\n",
      "Epoch 15/25\n",
      "13/13 [==============================] - 2s 141ms/step - loss: 0.0055\n",
      "Epoch 16/25\n",
      "13/13 [==============================] - 2s 142ms/step - loss: 0.0054\n",
      "Epoch 17/25\n",
      "13/13 [==============================] - 2s 141ms/step - loss: 0.0052\n",
      "Epoch 18/25\n",
      "13/13 [==============================] - 2s 142ms/step - loss: 0.0065\n",
      "Epoch 19/25\n",
      "13/13 [==============================] - 2s 140ms/step - loss: 0.0060\n",
      "Epoch 20/25\n",
      "13/13 [==============================] - 2s 142ms/step - loss: 0.0056\n",
      "Epoch 21/25\n",
      "13/13 [==============================] - 2s 140ms/step - loss: 0.0059\n",
      "Epoch 22/25\n",
      "13/13 [==============================] - 2s 141ms/step - loss: 0.0053\n",
      "Epoch 23/25\n",
      "13/13 [==============================] - 2s 143ms/step - loss: 0.0050\n",
      "Epoch 24/25\n",
      "13/13 [==============================] - 2s 157ms/step - loss: 0.0062\n",
      "Epoch 25/25\n",
      "13/13 [==============================] - 2s 144ms/step - loss: 0.0052\n"
     ]
    },
    {
     "data": {
      "text/plain": [
       "<keras.callbacks.History at 0x23e7b716790>"
      ]
     },
     "execution_count": 367,
     "metadata": {},
     "output_type": "execute_result"
    }
   ],
   "source": [
    "model.fit(x_train,y_train,epochs=25,batch_size=32)"
   ]
  },
  {
   "cell_type": "code",
   "execution_count": 368,
   "metadata": {},
   "outputs": [],
   "source": [
    "#load testdata\n",
    "test_start=dt.datetime(2020,12,31)\n",
    "test_end=dt.datetime(2021,1,12)"
   ]
  },
  {
   "cell_type": "code",
   "execution_count": 369,
   "metadata": {},
   "outputs": [],
   "source": [
    "test_data=Web.DataReader(\"ITC.NS\",'yahoo',test_start,test_end)"
   ]
  },
  {
   "cell_type": "code",
   "execution_count": 370,
   "metadata": {},
   "outputs": [],
   "source": [
    "actual_price=test_data['Open'].values"
   ]
  },
  {
   "cell_type": "code",
   "execution_count": 371,
   "metadata": {},
   "outputs": [],
   "source": [
    "total_dataset=pd.concat((ITC['Open'],test_data['Open']),axis= 0)"
   ]
  },
  {
   "cell_type": "code",
   "execution_count": 372,
   "metadata": {},
   "outputs": [],
   "source": [
    "model_inputs=total_dataset[len(total_dataset)-len(test_data)-prediction_days:].values\n",
    "model_inputs=model_inputs.reshape(-1,1)\n",
    "model_inputs=scaler.transform(model_inputs)"
   ]
  },
  {
   "cell_type": "code",
   "execution_count": 373,
   "metadata": {},
   "outputs": [],
   "source": [
    "#MAke prediction\n",
    "x_test=[]\n",
    "\n",
    "for x in range(prediction_days,len(model_inputs)):\n",
    "    x_test.append(model_inputs[x-prediction_days:x,0])\n"
   ]
  },
  {
   "cell_type": "code",
   "execution_count": 374,
   "metadata": {},
   "outputs": [],
   "source": [
    "x_test=np.array(x_test)\n",
    "x_test=np.reshape(x_test,(x_test.shape[0],x_test.shape[1],1)) "
   ]
  },
  {
   "cell_type": "code",
   "execution_count": 375,
   "metadata": {},
   "outputs": [],
   "source": [
    "predicted_prices=model.predict(x_test)\n",
    "predicted_prices=scaler.inverse_transform(predicted_prices)"
   ]
  },
  {
   "cell_type": "code",
   "execution_count": 376,
   "metadata": {},
   "outputs": [
    {
     "data": {
      "image/png": "[encoded data removed]",
      "text/plain": [
       "<Figure size 432x288 with 1 Axes>"
      ]
     },
     "metadata": {
      "needs_background": "light"
     },
     "output_type": "display_data"
    }
   ],
   "source": [
    "#plot the test prediction\n",
    "plt.plot(actual_price,color='green',label=\"actual open price\")\n",
    "plt.plot(predicted_prices,color='orange',label=\"predicted open price\")\n",
    "plt.title(\"ITC Stock Price\")\n",
    "plt.xlabel(\"Date\")\n",
    "plt.ylabel(\"price\")\n",
    "plt.legend()\n",
    "plt.show()"
   ]
  },
  {
   "cell_type": "code",
   "execution_count": 377,
   "metadata": {},
   "outputs": [
    {
     "name": "stdout",
     "output_type": "stream",
     "text": [
      "WARNING:tensorflow:Model was constructed with shape (None, 90, 1) for input KerasTensor(type_spec=TensorSpec(shape=(None, 90, 1), dtype=tf.float32, name='lstm_57_input'), name='lstm_57_input', description=\"created by layer 'lstm_57_input'\"), but it was called on an input with incompatible shape (None, 89, 1).\n"
     ]
    }
   ],
   "source": [
    "\n",
    "real_data=[model_inputs[len(model_inputs)+1-prediction_days:len(model_inputs+1),0]]\n",
    "real_data=np.array(real_data)\n",
    "real_data=np.reshape(real_data,(real_data.shape[0],real_data.shape[1],1))\n",
    "prediction=model.predict(real_data)\n",
    "prediction=scaler.inverse_transform(prediction)\n"
   ]
  },
  {
   "cell_type": "code",
   "execution_count": 378,
   "metadata": {},
   "outputs": [
    {
     "name": "stdout",
     "output_type": "stream",
     "text": [
      "Prediction Open Price:[[210.10478]]\n"
     ]
    }
   ],
   "source": [
    "print(f\"Prediction Open Price:{prediction}\")"
   ]
  },
  {
   "cell_type": "markdown",
   "metadata": {},
   "source": [
    "# Now we are predicting the low Price for the 13/1/2021"
   ]
  },
  {
   "cell_type": "code",
   "execution_count": 71,
   "metadata": {},
   "outputs": [
    {
     "data": {
      "image/png": "[encoded data removed]",
      "text/plain": [
       "<Figure size 1008x504 with 1 Axes>"
      ]
     },
     "metadata": {
      "needs_background": "light"
     },
     "output_type": "display_data"
    }
   ],
   "source": [
    "ITC['Low'].plot(label='ITC',figsize=(14,7),title='Low Price')\n",
    "plt.xlabel('Date')\n",
    "plt.ylabel('Price')\n",
    "plt.legend();"
   ]
  },
  {
   "cell_type": "code",
   "execution_count": 72,
   "metadata": {},
   "outputs": [],
   "source": [
    "scaler=MinMaxScaler(feature_range=(0,1))\n",
    "scaled_data=scaler.fit_transform(ITC['Low'].values.reshape(-1,1))"
   ]
  },
  {
   "cell_type": "code",
   "execution_count": 73,
   "metadata": {},
   "outputs": [],
   "source": [
    "prediction_days= 90"
   ]
  },
  {
   "cell_type": "code",
   "execution_count": 74,
   "metadata": {},
   "outputs": [],
   "source": [
    "x_train=[]\n",
    "y_train=[]\n",
    "for x in range(prediction_days,len(scaled_data)):\n",
    "    x_train.append(scaled_data[x-prediction_days:x,0])\n",
    "    y_train.append(scaled_data[x,0])"
   ]
  },
  {
   "cell_type": "code",
   "execution_count": 75,
   "metadata": {},
   "outputs": [],
   "source": [
    "x_train,y_train=np.array(x_train),np.array(y_train)\n",
    "x_train=np.reshape(x_train,(x_train.shape[0],x_train.shape[1],1))"
   ]
  },
  {
   "cell_type": "code",
   "execution_count": 104,
   "metadata": {},
   "outputs": [],
   "source": [
    "#Build The Model\n",
    "\n",
    "model=Sequential()\n",
    "model.add(LSTM(units=50,return_sequences=True, input_shape=(x_train.shape[1],1)))\n",
    "model.add(Dropout(0.2))\n",
    "model.add(LSTM(units=50,return_sequences=True))\n",
    "model.add(Dropout(0.2))\n",
    "model.add(LSTM(units=50))\n",
    "model.add(Dropout(0.2))\n",
    "model.add(Dense(units=1))#Prediction of the next low price"
   ]
  },
  {
   "cell_type": "code",
   "execution_count": 105,
   "metadata": {},
   "outputs": [],
   "source": [
    "model.compile(optimizer='adam',loss='mean_squared_error')"
   ]
  },
  {
   "cell_type": "code",
   "execution_count": 106,
   "metadata": {},
   "outputs": [
    {
     "name": "stdout",
     "output_type": "stream",
     "text": [
      "Epoch 1/25\n",
      "13/13 [==============================] - 9s 144ms/step - loss: 0.1366\n",
      "Epoch 2/25\n",
      "13/13 [==============================] - 2s 143ms/step - loss: 0.0220\n",
      "Epoch 3/25\n",
      "13/13 [==============================] - 2s 142ms/step - loss: 0.0121\n",
      "Epoch 4/25\n",
      "13/13 [==============================] - 2s 147ms/step - loss: 0.0090\n",
      "Epoch 5/25\n",
      "13/13 [==============================] - 2s 142ms/step - loss: 0.0070\n",
      "Epoch 6/25\n",
      "13/13 [==============================] - 2s 145ms/step - loss: 0.0074\n",
      "Epoch 7/25\n",
      "13/13 [==============================] - 2s 135ms/step - loss: 0.0066\n",
      "Epoch 8/25\n",
      "13/13 [==============================] - 2s 136ms/step - loss: 0.0083\n",
      "Epoch 9/25\n",
      "13/13 [==============================] - 2s 139ms/step - loss: 0.0071\n",
      "Epoch 10/25\n",
      "13/13 [==============================] - 2s 143ms/step - loss: 0.0077\n",
      "Epoch 11/25\n",
      "13/13 [==============================] - 2s 144ms/step - loss: 0.0066\n",
      "Epoch 12/25\n",
      "13/13 [==============================] - 2s 140ms/step - loss: 0.0075\n",
      "Epoch 13/25\n",
      "13/13 [==============================] - 2s 143ms/step - loss: 0.0065\n",
      "Epoch 14/25\n",
      "13/13 [==============================] - 2s 144ms/step - loss: 0.0072\n",
      "Epoch 15/25\n",
      "13/13 [==============================] - 2s 153ms/step - loss: 0.0072\n",
      "Epoch 16/25\n",
      "13/13 [==============================] - 2s 144ms/step - loss: 0.0065\n",
      "Epoch 17/25\n",
      "13/13 [==============================] - 2s 146ms/step - loss: 0.0055\n",
      "Epoch 18/25\n",
      "13/13 [==============================] - 2s 150ms/step - loss: 0.0067\n",
      "Epoch 19/25\n",
      "13/13 [==============================] - 2s 155ms/step - loss: 0.0063\n",
      "Epoch 20/25\n",
      "13/13 [==============================] - 2s 154ms/step - loss: 0.0055\n",
      "Epoch 21/25\n",
      "13/13 [==============================] - 2s 144ms/step - loss: 0.0065\n",
      "Epoch 22/25\n",
      "13/13 [==============================] - 2s 148ms/step - loss: 0.0051\n",
      "Epoch 23/25\n",
      "13/13 [==============================] - 2s 144ms/step - loss: 0.0051\n",
      "Epoch 24/25\n",
      "13/13 [==============================] - 2s 171ms/step - loss: 0.0060\n",
      "Epoch 25/25\n",
      "13/13 [==============================] - 2s 172ms/step - loss: 0.0061\n"
     ]
    },
    {
     "data": {
      "text/plain": [
       "<keras.callbacks.History at 0x23dafb6cd60>"
      ]
     },
     "execution_count": 106,
     "metadata": {},
     "output_type": "execute_result"
    }
   ],
   "source": [
    "model.fit(x_train,y_train,epochs=25,batch_size=32,verbose=1)"
   ]
  },
  {
   "cell_type": "code",
   "execution_count": 107,
   "metadata": {},
   "outputs": [],
   "source": [
    "#load testdata\n",
    "test_start=dt.datetime(2020,12,31)\n",
    "test_end=dt.datetime(2021,1,12)"
   ]
  },
  {
   "cell_type": "code",
   "execution_count": 108,
   "metadata": {},
   "outputs": [],
   "source": [
    "test_data=Web.DataReader(\"ITC.NS\",'yahoo',test_start,test_end)"
   ]
  },
  {
   "cell_type": "code",
   "execution_count": 109,
   "metadata": {},
   "outputs": [],
   "source": [
    "actual_price=test_data['Low'].values"
   ]
  },
  {
   "cell_type": "code",
   "execution_count": 110,
   "metadata": {},
   "outputs": [],
   "source": [
    "total_dataset=pd.concat((ITC['Low'],test_data['Low']),axis= 0)"
   ]
  },
  {
   "cell_type": "code",
   "execution_count": 111,
   "metadata": {},
   "outputs": [],
   "source": [
    "model_inputs=total_dataset[len(total_dataset)-len(test_data)-prediction_days:].values\n",
    "model_inputs=model_inputs.reshape(-1,1)\n",
    "model_inputs=scaler.transform(model_inputs)"
   ]
  },
  {
   "cell_type": "code",
   "execution_count": 112,
   "metadata": {},
   "outputs": [],
   "source": [
    "#MAke prediction\n",
    "x_test=[]\n",
    "\n",
    "for x in range(prediction_days,len(model_inputs)):\n",
    "    x_test.append(model_inputs[x-prediction_days:x,0])\n"
   ]
  },
  {
   "cell_type": "code",
   "execution_count": 113,
   "metadata": {},
   "outputs": [],
   "source": [
    "x_test=np.array(x_test)\n",
    "x_test=np.reshape(x_test,(x_test.shape[0],x_test.shape[1],1)) "
   ]
  },
  {
   "cell_type": "code",
   "execution_count": 114,
   "metadata": {},
   "outputs": [],
   "source": [
    "predicted_prices=model.predict(x_test)\n",
    "predicted_prices=scaler.inverse_transform(predicted_prices)"
   ]
  },
  {
   "cell_type": "code",
   "execution_count": 115,
   "metadata": {},
   "outputs": [
    {
     "data": {
      "image/png": "[encoded data removed]",
      "text/plain": [
       "<Figure size 432x288 with 1 Axes>"
      ]
     },
     "metadata": {
      "needs_background": "light"
     },
     "output_type": "display_data"
    }
   ],
   "source": [
    "#plot the test prediction\n",
    "plt.plot(actual_price,color='green',label=\"actual low price\")\n",
    "plt.plot(predicted_prices,color='orange',label=\"predicted low price\")\n",
    "plt.title(\"ITC Stock Price\")\n",
    "plt.xlabel(\"Date\")\n",
    "plt.ylabel(\"price\")\n",
    "plt.legend()\n",
    "plt.show()"
   ]
  },
  {
   "cell_type": "code",
   "execution_count": 116,
   "metadata": {},
   "outputs": [
    {
     "name": "stdout",
     "output_type": "stream",
     "text": [
      "WARNING:tensorflow:Model was constructed with shape (None, 90, 1) for input KerasTensor(type_spec=TensorSpec(shape=(None, 90, 1), dtype=tf.float32, name='lstm_15_input'), name='lstm_15_input', description=\"created by layer 'lstm_15_input'\"), but it was called on an input with incompatible shape (None, 89, 1).\n"
     ]
    }
   ],
   "source": [
    "real_data=[model_inputs[len(model_inputs)+1-prediction_days:len(model_inputs+1),0]]\n",
    "real_data=np.array(real_data)\n",
    "real_data=np.reshape(real_data,(real_data.shape[0],real_data.shape[1],1))\n",
    "prediction=model.predict(real_data)\n",
    "prediction=scaler.inverse_transform(prediction)\n"
   ]
  },
  {
   "cell_type": "code",
   "execution_count": 117,
   "metadata": {},
   "outputs": [
    {
     "name": "stdout",
     "output_type": "stream",
     "text": [
      "Prediction Low Price:[[205.34033]]\n"
     ]
    }
   ],
   "source": [
    "print(f\"Prediction Low Price:{prediction}\")"
   ]
  },
  {
   "cell_type": "code",
   "execution_count": null,
   "metadata": {},
   "outputs": [],
   "source": []
  }
 ],
 "metadata": {
  "kernelspec": {
   "display_name": "Python 3",
   "language": "python",
   "name": "python3"
  },
  "language_info": {
   "codemirror_mode": {
    "name": "ipython",
    "version": 3
   },
   "file_extension": ".py",
   "mimetype": "text/x-python",
   "name": "python",
   "nbconvert_exporter": "python",
   "pygments_lexer": "ipython3",
   "version": "3.8.8"
  }
 },
 "nbformat": 4,
 "nbformat_minor": 2
}
